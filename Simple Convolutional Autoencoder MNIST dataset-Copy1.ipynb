{
 "cells": [
  {
   "cell_type": "markdown",
   "metadata": {},
   "source": [
    "# Simple Convolutional Autoencoder : MNIST dataset"
   ]
  },
  {
   "cell_type": "code",
   "execution_count": 1,
   "metadata": {},
   "outputs": [
    {
     "name": "stderr",
     "output_type": "stream",
     "text": [
      "Using TensorFlow backend.\n"
     ]
    },
    {
     "data": {
      "image/png": "[encoded data removed]",
      "text/plain": [
       "<Figure size 432x288 with 1 Axes>"
      ]
     },
     "metadata": {
      "needs_background": "light"
     },
     "output_type": "display_data"
    }
   ],
   "source": [
    "%matplotlib inline\n",
    "\n",
    "import numpy as np\n",
    "import matplotlib.pyplot as plt\n",
    "import keras as k\n",
    "from keras.datasets import mnist\n",
    "(X_train, y_train), (X_test, y_test) = mnist.load_data()\n",
    "plt.imshow(X_train[5678],cmap='gray')\n",
    "Xme=X_train"
   ]
  },
  {
   "cell_type": "code",
   "execution_count": 2,
   "metadata": {},
   "outputs": [
    {
     "name": "stdout",
     "output_type": "stream",
     "text": [
      "[ 0.  0.  0.  0.  0.  1.  0.  0.  0.  0.]\n",
      "(60000, 28, 28, 1)\n",
      "(10000, 28, 28, 1)\n",
      "(10000, 10)\n"
     ]
    }
   ],
   "source": [
    "from keras.utils import to_categorical\n",
    "X_train = X_train.reshape(60000,28,28,1)\n",
    "X_test = X_test.reshape(10000,28,28,1)\n",
    "y_train = to_categorical(y_train)\n",
    "y_test = to_categorical(y_test)\n",
    "#noisy=noisy.reshape(60000,28,28,1)\n",
    "print(y_train[0])\n",
    "print(X_train.shape)\n",
    "#print(noisy.shape)\n",
    "print(X_test.shape)\n",
    "print(y_test.shape)\n",
    "X_train= X_train.astype('float32')\n",
    "X_train /= 255."
   ]
  },
  {
   "cell_type": "code",
   "execution_count": 11,
   "metadata": {},
   "outputs": [
    {
     "name": "stdout",
     "output_type": "stream",
     "text": [
      "_________________________________________________________________\n",
      "Layer (type)                 Output Shape              Param #   \n",
      "=================================================================\n",
      "conv2d_21 (Conv2D)           (None, 28, 28, 32)        160       \n",
      "_________________________________________________________________\n",
      "max_pooling2d_11 (MaxPooling (None, 14, 14, 32)        0         \n",
      "_________________________________________________________________\n",
      "dropout_21 (Dropout)         (None, 14, 14, 32)        0         \n",
      "_________________________________________________________________\n",
      "conv2d_22 (Conv2D)           (None, 14, 14, 16)        2064      \n",
      "_________________________________________________________________\n",
      "max_pooling2d_12 (MaxPooling (None, 7, 7, 16)          0         \n",
      "_________________________________________________________________\n",
      "dropout_22 (Dropout)         (None, 7, 7, 16)          0         \n",
      "_________________________________________________________________\n",
      "up_sampling2d_11 (UpSampling (None, 14, 14, 16)        0         \n",
      "_________________________________________________________________\n",
      "conv2d_23 (Conv2D)           (None, 14, 14, 32)        2080      \n",
      "_________________________________________________________________\n",
      "dropout_23 (Dropout)         (None, 14, 14, 32)        0         \n",
      "_________________________________________________________________\n",
      "up_sampling2d_12 (UpSampling (None, 28, 28, 32)        0         \n",
      "_________________________________________________________________\n",
      "conv2d_24 (Conv2D)           (None, 28, 28, 64)        8256      \n",
      "_________________________________________________________________\n",
      "dropout_24 (Dropout)         (None, 28, 28, 64)        0         \n",
      "_________________________________________________________________\n",
      "dense_7 (Dense)              (None, 28, 28, 1)         65        \n",
      "=================================================================\n",
      "Total params: 12,625\n",
      "Trainable params: 12,625\n",
      "Non-trainable params: 0\n",
      "_________________________________________________________________\n"
     ]
    }
   ],
   "source": [
    "from keras.models import Sequential\n",
    "from keras.layers import Convolution2D, MaxPooling2D, Dropout, GlobalAveragePooling2D,Reshape\n",
    "from keras.layers import Flatten, Dense,UpSampling2D\n",
    "\n",
    "model = Sequential()\n",
    "\n",
    "#Encoder\n",
    "model.add(Convolution2D(32, (2, 2), input_shape=(28,28,1),activation='relu', padding=\"same\"))\n",
    "model.add(MaxPooling2D(2))\n",
    "model.add(Dropout(0.2))\n",
    "\n",
    "model.add(Convolution2D(16, (2, 2),activation='relu', padding=\"same\"))\n",
    "model.add(MaxPooling2D(2))\n",
    "model.add(Dropout(0.1))\n",
    "\n",
    "#model.add(Convolution2D(8, (2, 2),activation='relu', padding=\"same\"))\n",
    "#model.add(MaxPooling2D(2)\n",
    "#model.add(Dropout(0.2))\n",
    "\n",
    "#model.add(Convolution2D(16, (2, 2),activation='relu', padding=\"same\"))\n",
    "#model.add(MaxPooling2D(2))\n",
    "#model.add(Dropout(0.2))\n",
    "\n",
    "#Decoder\n",
    "\n",
    "#model.add(UpSampling2D(size=(7,7)))\n",
    "#model.add(Convolution2D(8, (2, 2),activation='relu', padding=\"same\"))\n",
    "#model.add(Dropout(0.1))\n",
    "\n",
    "model.add(UpSampling2D(size=(2,2)))\n",
    "model.add(Convolution2D(32,(2, 2),activation='relu', padding=\"same\"))\n",
    "model.add(Dropout(0.1))\n",
    "\n",
    "model.add(UpSampling2D(size=(2,2)))\n",
    "model.add(Convolution2D(64, (2, 2),activation='relu', padding=\"same\"))\n",
    "model.add(Dropout(0.1))\n",
    "\n",
    "#model.add(Convolution2D(8, (2, 2),activation='relu', padding=\"same\"))\n",
    "#model.add(Dropout(0.2))\n",
    "#model.add(Dense(16,activation=\"relu\"))\n",
    "model.add(Dense(1,activation=\"sigmoid\"))\n",
    "\n",
    "\n",
    "          \n",
    "model.summary()"
   ]
  },
  {
   "cell_type": "code",
   "execution_count": 12,
   "metadata": {},
   "outputs": [],
   "source": [
    "from keras.optimizers import SGD, RMSprop, Adagrad, Adadelta, Adam, Adamax, Nadam\n",
    "from sklearn.preprocessing import OneHotEncoder\n",
    "import tensorflow as tf\n",
    "X=np.reshape(X_train,[60000,28,28,1])\n",
    "model.compile(optimizer ='adam', loss='binary_crossentropy', metrics=['accuracy'])\n"
   ]
  },
  {
   "cell_type": "code",
   "execution_count": 13,
   "metadata": {},
   "outputs": [
    {
     "name": "stdout",
     "output_type": "stream",
     "text": [
      "Train on 48000 samples, validate on 12000 samples\n",
      "Epoch 1/5\n",
      "48000/48000 [==============================] - 416s 9ms/step - loss: 0.2612 - acc: 0.7978 - val_loss: 0.1461 - val_acc: 0.8036\n",
      "Epoch 2/5\n",
      "48000/48000 [==============================] - 404s 8ms/step - loss: 0.1468 - acc: 0.8024 - val_loss: 0.1209 - val_acc: 0.8092\n",
      "Epoch 3/5\n",
      "48000/48000 [==============================] - 401s 8ms/step - loss: 0.1279 - acc: 0.8073 - val_loss: 0.1089 - val_acc: 0.8115\n",
      "Epoch 4/5\n",
      "48000/48000 [==============================] - 401s 8ms/step - loss: 0.1199 - acc: 0.8090 - val_loss: 0.1027 - val_acc: 0.8128\n",
      "Epoch 5/5\n",
      "48000/48000 [==============================] - 405s 8ms/step - loss: 0.1153 - acc: 0.8098 - val_loss: 0.0993 - val_acc: 0.8129\n"
     ]
    }
   ],
   "source": [
    "hist = model.fit(X_train,X_train, validation_split = 0.2, epochs = 5, batch_size=256, verbose=1)"
   ]
  },
  {
   "cell_type": "code",
   "execution_count": 14,
   "metadata": {},
   "outputs": [
    {
     "name": "stdout",
     "output_type": "stream",
     "text": [
      "Train on 48000 samples, validate on 12000 samples\n",
      "Epoch 1/10\n",
      "48000/48000 [==============================] - 404s 8ms/step - loss: 0.1114 - acc: 0.8105 - val_loss: 0.0950 - val_acc: 0.8136\n",
      "Epoch 2/10\n",
      "48000/48000 [==============================] - 422s 9ms/step - loss: 0.1079 - acc: 0.8111 - val_loss: 0.0924 - val_acc: 0.8141\n",
      "Epoch 3/10\n",
      "48000/48000 [==============================] - 430s 9ms/step - loss: 0.1056 - acc: 0.8115 - val_loss: 0.0908 - val_acc: 0.8142\n",
      "Epoch 4/10\n",
      "48000/48000 [==============================] - 438s 9ms/step - loss: 0.1042 - acc: 0.8117 - val_loss: 0.0897 - val_acc: 0.8144\n",
      "Epoch 5/10\n",
      "48000/48000 [==============================] - 460s 10ms/step - loss: 0.1030 - acc: 0.8119 - val_loss: 0.0887 - val_acc: 0.8145\n",
      "Epoch 6/10\n",
      "48000/48000 [==============================] - 469s 10ms/step - loss: 0.1022 - acc: 0.8120 - val_loss: 0.0881 - val_acc: 0.8146\n",
      "Epoch 7/10\n",
      "48000/48000 [==============================] - 434s 9ms/step - loss: 0.1015 - acc: 0.8121 - val_loss: 0.0875 - val_acc: 0.8148\n",
      "Epoch 8/10\n",
      "48000/48000 [==============================] - 436s 9ms/step - loss: 0.1010 - acc: 0.8122 - val_loss: 0.0868 - val_acc: 0.8149\n",
      "Epoch 9/10\n",
      "48000/48000 [==============================] - 432s 9ms/step - loss: 0.1004 - acc: 0.8122 - val_loss: 0.0867 - val_acc: 0.8149\n",
      "Epoch 10/10\n",
      "48000/48000 [==============================] - 417s 9ms/step - loss: 0.1000 - acc: 0.8123 - val_loss: 0.0860 - val_acc: 0.8148\n"
     ]
    }
   ],
   "source": [
    "hist = model.fit(X_train,X_train, validation_split = 0.2, epochs = 10, batch_size=128, verbose=1)"
   ]
  },
  {
   "cell_type": "code",
   "execution_count": 27,
   "metadata": {},
   "outputs": [
    {
     "name": "stdout",
     "output_type": "stream",
     "text": [
      "Train on 48000 samples, validate on 12000 samples\n",
      "Epoch 1/10\n",
      "48000/48000 [==============================] - 402s 8ms/step - loss: 0.0992 - acc: 0.8124 - val_loss: 0.0855 - val_acc: 0.8151\n",
      "Epoch 2/10\n",
      "48000/48000 [==============================] - 402s 8ms/step - loss: 0.0990 - acc: 0.8124 - val_loss: 0.0854 - val_acc: 0.8149\n",
      "Epoch 3/10\n",
      "48000/48000 [==============================] - 408s 8ms/step - loss: 0.0988 - acc: 0.8124 - val_loss: 0.0853 - val_acc: 0.8149\n",
      "Epoch 4/10\n",
      "48000/48000 [==============================] - 524s 11ms/step - loss: 0.0986 - acc: 0.8125 - val_loss: 0.0850 - val_acc: 0.8150\n",
      "Epoch 5/10\n",
      "48000/48000 [==============================] - 477s 10ms/step - loss: 0.0985 - acc: 0.8125 - val_loss: 0.0849 - val_acc: 0.8150\n",
      "Epoch 6/10\n",
      "48000/48000 [==============================] - 452s 9ms/step - loss: 0.0983 - acc: 0.8125 - val_loss: 0.0847 - val_acc: 0.8150\n",
      "Epoch 7/10\n",
      "48000/48000 [==============================] - 435s 9ms/step - loss: 0.0982 - acc: 0.8125 - val_loss: 0.0846 - val_acc: 0.8151\n",
      "Epoch 8/10\n",
      "48000/48000 [==============================] - 426s 9ms/step - loss: 0.0980 - acc: 0.8125 - val_loss: 0.0845 - val_acc: 0.8151\n",
      "Epoch 9/10\n",
      "48000/48000 [==============================] - 452s 9ms/step - loss: 0.0979 - acc: 0.8125 - val_loss: 0.0844 - val_acc: 0.8150\n",
      "Epoch 10/10\n",
      "48000/48000 [==============================] - 456s 9ms/step - loss: 0.0978 - acc: 0.8126 - val_loss: 0.0844 - val_acc: 0.8151\n"
     ]
    }
   ],
   "source": [
    "hist = model.fit(X_train,X_train, validation_split = 0.2, epochs =10, batch_size=256, verbose=1)"
   ]
  },
  {
   "cell_type": "code",
   "execution_count": 32,
   "metadata": {},
   "outputs": [
    {
     "data": {
      "text/plain": [
       "<matplotlib.image.AxesImage at 0x2138469deb8>"
      ]
     },
     "execution_count": 32,
     "metadata": {},
     "output_type": "execute_result"
    },
    {
     "data": {
      "image/png": "[encoded data removed]",
      "text/plain": [
       "<Figure size 432x288 with 2 Axes>"
      ]
     },
     "metadata": {
      "needs_background": "light"
     },
     "output_type": "display_data"
    }
   ],
   "source": [
    "index=232\n",
    "\n",
    "x1=np.reshape(X_test[index],[1,28,28,1])\n",
    "y1=model.predict(x1)\n",
    "y1=np.reshape(y1,[28,28])\n",
    "f = plt.figure()\n",
    "f.add_subplot(1,2, 1)\n",
    "plt.imshow(np.reshape(x1,[28,28]),cmap=\"gray\")\n",
    "f.add_subplot(1,2, 2)\n",
    "plt.imshow(y1,cmap=\"gray\")"
   ]
  },
  {
   "cell_type": "code",
   "execution_count": 33,
   "metadata": {},
   "outputs": [],
   "source": [
    "model.save('model_simple_conv_ae1.h5')"
   ]
  },
  {
   "cell_type": "code",
   "execution_count": 6,
   "metadata": {},
   "outputs": [],
   "source": [
    "from keras.models import load_model\n",
    "import tensorflow\n",
    "from tensorflow.losses import sigmoid_cross_entropy\n",
    "model = load_model('model_cae.h5')"
   ]
  }
 ],
 "metadata": {
  "kernelspec": {
   "display_name": "Python 3",
   "language": "python",
   "name": "python3"
  },
  "language_info": {
   "codemirror_mode": {
    "name": "ipython",
    "version": 3
   },
   "file_extension": ".py",
   "mimetype": "text/x-python",
   "name": "python",
   "nbconvert_exporter": "python",
   "pygments_lexer": "ipython3",
   "version": "3.6.6"
  }
 },
 "nbformat": 4,
 "nbformat_minor": 2
}
