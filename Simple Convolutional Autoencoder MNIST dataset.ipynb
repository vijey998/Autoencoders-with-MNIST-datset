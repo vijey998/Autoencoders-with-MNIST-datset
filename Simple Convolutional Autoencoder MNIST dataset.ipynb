{
 "cells": [
  {
   "cell_type": "markdown",
   "metadata": {},
   "source": [
    "# Simple Convolutional Autoencoder : MNIST dataset"
   ]
  },
  {
   "cell_type": "code",
   "execution_count": 1,
   "metadata": {},
   "outputs": [
    {
     "name": "stderr",
     "output_type": "stream",
     "text": [
      "Using TensorFlow backend.\n"
     ]
    },
    {
     "data": {
      "image/png": "[encoded data removed]",
      "text/plain": [
       "<Figure size 432x288 with 1 Axes>"
      ]
     },
     "metadata": {
      "needs_background": "light"
     },
     "output_type": "display_data"
    }
   ],
   "source": [
    "%matplotlib inline\n",
    "\n",
    "import numpy as np\n",
    "import matplotlib.pyplot as plt\n",
    "import keras as k\n",
    "from keras.datasets import mnist\n",
    "(X_train, y_train), (X_test, y_test) = mnist.load_data()\n",
    "plt.imshow(X_train[5678],cmap='gray')\n",
    "Xme=X_train"
   ]
  },
  {
   "cell_type": "code",
   "execution_count": 12,
   "metadata": {},
   "outputs": [
    {
     "name": "stdout",
     "output_type": "stream",
     "text": [
      "[[ 1.  0.]\n",
      " [ 1.  0.]\n",
      " [ 1.  0.]\n",
      " [ 1.  0.]\n",
      " [ 1.  0.]\n",
      " [ 0.  1.]\n",
      " [ 1.  0.]\n",
      " [ 1.  0.]\n",
      " [ 1.  0.]\n",
      " [ 1.  0.]]\n",
      "(60000, 28, 28, 1)\n",
      "(10000, 28, 28, 1)\n",
      "(10000, 10, 2)\n"
     ]
    }
   ],
   "source": [
    "from keras.utils import to_categorical\n",
    "X_train = X_train.reshape(60000,28,28,1)\n",
    "X_test = X_test.reshape(10000,28,28,1)\n",
    "y_train = to_categorical(y_train)\n",
    "y_test = to_categorical(y_test)\n",
    "#noisy=noisy.reshape(60000,28,28,1)\n",
    "print(y_train[0])\n",
    "print(X_train.shape)\n",
    "#print(noisy.shape)\n",
    "print(X_test.shape)\n",
    "print(y_test.shape)\n",
    "X_train= X_train.astype('float32')\n",
    "X_train /= 255."
   ]
  },
  {
   "cell_type": "code",
   "execution_count": 13,
   "metadata": {},
   "outputs": [
    {
     "name": "stdout",
     "output_type": "stream",
     "text": [
      "_________________________________________________________________\n",
      "Layer (type)                 Output Shape              Param #   \n",
      "=================================================================\n",
      "conv2d_49 (Conv2D)           (None, 28, 28, 32)        160       \n",
      "_________________________________________________________________\n",
      "max_pooling2d_20 (MaxPooling (None, 14, 14, 32)        0         \n",
      "_________________________________________________________________\n",
      "dropout_56 (Dropout)         (None, 14, 14, 32)        0         \n",
      "_________________________________________________________________\n",
      "conv2d_50 (Conv2D)           (None, 14, 14, 16)        2064      \n",
      "_________________________________________________________________\n",
      "max_pooling2d_21 (MaxPooling (None, 7, 7, 16)          0         \n",
      "_________________________________________________________________\n",
      "dropout_57 (Dropout)         (None, 7, 7, 16)          0         \n",
      "_________________________________________________________________\n",
      "conv2d_51 (Conv2D)           (None, 7, 7, 8)           520       \n",
      "_________________________________________________________________\n",
      "dropout_58 (Dropout)         (None, 7, 7, 8)           0         \n",
      "_________________________________________________________________\n",
      "conv2d_52 (Conv2D)           (None, 7, 7, 16)          528       \n",
      "_________________________________________________________________\n",
      "dropout_59 (Dropout)         (None, 7, 7, 16)          0         \n",
      "_________________________________________________________________\n",
      "up_sampling2d_15 (UpSampling (None, 14, 14, 16)        0         \n",
      "_________________________________________________________________\n",
      "conv2d_53 (Conv2D)           (None, 14, 14, 32)        2080      \n",
      "_________________________________________________________________\n",
      "dropout_60 (Dropout)         (None, 14, 14, 32)        0         \n",
      "_________________________________________________________________\n",
      "up_sampling2d_16 (UpSampling (None, 28, 28, 32)        0         \n",
      "_________________________________________________________________\n",
      "conv2d_54 (Conv2D)           (None, 28, 28, 16)        2064      \n",
      "_________________________________________________________________\n",
      "dropout_61 (Dropout)         (None, 28, 28, 16)        0         \n",
      "_________________________________________________________________\n",
      "dense_8 (Dense)              (None, 28, 28, 1)         17        \n",
      "_________________________________________________________________\n",
      "dropout_62 (Dropout)         (None, 28, 28, 1)         0         \n",
      "=================================================================\n",
      "Total params: 7,433\n",
      "Trainable params: 7,433\n",
      "Non-trainable params: 0\n",
      "_________________________________________________________________\n"
     ]
    }
   ],
   "source": [
    "from keras.models import Sequential\n",
    "from keras.layers import Convolution2D, MaxPooling2D, Dropout, GlobalAveragePooling2D,Reshape\n",
    "from keras.layers import Flatten, Dense,UpSampling2D\n",
    "\n",
    "model = Sequential()\n",
    "\n",
    "#Encoder\n",
    "model.add(Convolution2D(32, (2, 2), input_shape=(28,28,1),activation='relu', padding=\"same\"))\n",
    "model.add(MaxPooling2D(2))\n",
    "model.add(Dropout(0.2))\n",
    "\n",
    "model.add(Convolution2D(16, (2, 2),activation='relu', padding=\"same\"))\n",
    "model.add(MaxPooling2D(2))\n",
    "model.add(Dropout(0.2))\n",
    "\n",
    "model.add(Convolution2D(8, (2, 2),activation='relu', padding=\"same\"))\n",
    "#model.add(MaxPooling2D(2)\n",
    "model.add(Dropout(0.2))\n",
    "\n",
    "model.add(Convolution2D(16, (2, 2),activation='relu', padding=\"same\"))\n",
    "#model.add(MaxPooling2D(2))\n",
    "model.add(Dropout(0.2))\n",
    "\n",
    "#Decoder\n",
    "\n",
    "#model.add(UpSampling2D(size=(7,7)))\n",
    "#model.add(Convolution2D(8, (2, 2),activation='relu', padding=\"same\"))\n",
    "#model.add(Dropout(0.1))\n",
    "\n",
    "model.add(UpSampling2D(size=(2,2)))\n",
    "model.add(Convolution2D(32,(2, 2),activation='relu', padding=\"same\"))\n",
    "model.add(Dropout(0.2))\n",
    "\n",
    "model.add(UpSampling2D(size=(2,2)))\n",
    "model.add(Convolution2D(16, (2, 2),activation='relu', padding=\"same\"))\n",
    "model.add(Dropout(0.2))\n",
    "\n",
    "#model.add(Convolution2D(8, (2, 2),activation='relu', padding=\"same\"))\n",
    "#model.add(Dropout(0.2))\n",
    "\n",
    "model.add(Dense(1,activation=\"sigmoid\"))\n",
    "model.add(Dropout(0.2))\n",
    "\n",
    "          \n",
    "model.summary()"
   ]
  },
  {
   "cell_type": "code",
   "execution_count": 14,
   "metadata": {},
   "outputs": [],
   "source": [
    "from keras.optimizers import SGD, RMSprop, Adagrad, Adadelta, Adam, Adamax, Nadam\n",
    "from sklearn.preprocessing import OneHotEncoder\n",
    "import tensorflow as tf\n",
    "X=np.reshape(X_train,[60000,28,28,1])\n",
    "model.compile(optimizer ='adam', loss='binary_crossentropy', metrics=['accuracy'])\n"
   ]
  },
  {
   "cell_type": "code",
   "execution_count": 15,
   "metadata": {},
   "outputs": [
    {
     "name": "stdout",
     "output_type": "stream",
     "text": [
      "Train on 48000 samples, validate on 12000 samples\n",
      "Epoch 1/5\n",
      "48000/48000 [==============================] - 466s 10ms/step - loss: 0.6424 - acc: 0.7700 - val_loss: 0.1694 - val_acc: 0.8057\n",
      "Epoch 2/5\n",
      "48000/48000 [==============================] - 451s 9ms/step - loss: 0.5620 - acc: 0.7959 - val_loss: 0.1601 - val_acc: 0.8076\n",
      "Epoch 3/5\n",
      "48000/48000 [==============================] - 367s 8ms/step - loss: 0.5542 - acc: 0.7982 - val_loss: 0.1520 - val_acc: 0.8088\n",
      "Epoch 4/5\n",
      "48000/48000 [==============================] - 281s 6ms/step - loss: 0.5482 - acc: 0.8001 - val_loss: 0.1471 - val_acc: 0.8099\n",
      "Epoch 5/5\n",
      "48000/48000 [==============================] - 453s 9ms/step - loss: 0.5451 - acc: 0.8015 - val_loss: 0.1433 - val_acc: 0.8104\n"
     ]
    }
   ],
   "source": [
    "hist = model.fit(X_train,X_train, validation_split = 0.2, epochs = 5, batch_size=128, verbose=1)"
   ]
  },
  {
   "cell_type": "code",
   "execution_count": 16,
   "metadata": {},
   "outputs": [
    {
     "name": "stdout",
     "output_type": "stream",
     "text": [
      "Train on 48000 samples, validate on 12000 samples\n",
      "Epoch 1/20\n",
      "48000/48000 [==============================] - 455s 9ms/step - loss: 0.5444 - acc: 0.8019 - val_loss: 0.1422 - val_acc: 0.8106\n",
      "Epoch 2/20\n",
      "48000/48000 [==============================] - 449s 9ms/step - loss: 0.5409 - acc: 0.8029 - val_loss: 0.1386 - val_acc: 0.8110\n",
      "Epoch 3/20\n",
      "48000/48000 [==============================] - 455s 9ms/step - loss: 0.5391 - acc: 0.8035 - val_loss: 0.1371 - val_acc: 0.8114\n",
      "Epoch 4/20\n",
      "48000/48000 [==============================] - 445s 9ms/step - loss: 0.5388 - acc: 0.8039 - val_loss: 0.1348 - val_acc: 0.8113\n",
      "Epoch 5/20\n",
      "48000/48000 [==============================] - 454s 9ms/step - loss: 0.5372 - acc: 0.8043 - val_loss: 0.1331 - val_acc: 0.8116\n",
      "Epoch 6/20\n",
      "48000/48000 [==============================] - 448s 9ms/step - loss: 0.5362 - acc: 0.8045 - val_loss: 0.1324 - val_acc: 0.8116\n",
      "Epoch 7/20\n",
      "48000/48000 [==============================] - 447s 9ms/step - loss: 0.5357 - acc: 0.8048 - val_loss: 0.1312 - val_acc: 0.8117\n",
      "Epoch 8/20\n",
      "48000/48000 [==============================] - 445s 9ms/step - loss: 0.5351 - acc: 0.8049 - val_loss: 0.1307 - val_acc: 0.8116\n",
      "Epoch 9/20\n",
      "48000/48000 [==============================] - 445s 9ms/step - loss: 0.5348 - acc: 0.8050 - val_loss: 0.1297 - val_acc: 0.8118\n",
      "Epoch 10/20\n",
      "48000/48000 [==============================] - 445s 9ms/step - loss: 0.5347 - acc: 0.8052 - val_loss: 0.1293 - val_acc: 0.8121\n",
      "Epoch 11/20\n",
      "48000/48000 [==============================] - 447s 9ms/step - loss: 0.5335 - acc: 0.8054 - val_loss: 0.1292 - val_acc: 0.8118\n",
      "Epoch 12/20\n",
      "48000/48000 [==============================] - 446s 9ms/step - loss: 0.5327 - acc: 0.8055 - val_loss: 0.1287 - val_acc: 0.8123\n",
      "Epoch 13/20\n",
      "48000/48000 [==============================] - 446s 9ms/step - loss: 0.5364 - acc: 0.8045 - val_loss: 0.1295 - val_acc: 0.8121\n",
      "Epoch 14/20\n",
      "48000/48000 [==============================] - 444s 9ms/step - loss: 0.5330 - acc: 0.8054 - val_loss: 0.1289 - val_acc: 0.8121\n",
      "Epoch 15/20\n",
      "48000/48000 [==============================] - 448s 9ms/step - loss: 0.5324 - acc: 0.8056 - val_loss: 0.1285 - val_acc: 0.8123\n",
      "Epoch 16/20\n",
      "48000/48000 [==============================] - 447s 9ms/step - loss: 0.5325 - acc: 0.8057 - val_loss: 0.1279 - val_acc: 0.8122\n",
      "Epoch 17/20\n",
      "48000/48000 [==============================] - 446s 9ms/step - loss: 0.5323 - acc: 0.8057 - val_loss: 0.1278 - val_acc: 0.8123\n",
      "Epoch 18/20\n",
      "48000/48000 [==============================] - 455s 9ms/step - loss: 0.5316 - acc: 0.8057 - val_loss: 0.1296 - val_acc: 0.8122\n",
      "Epoch 19/20\n",
      "48000/48000 [==============================] - 448s 9ms/step - loss: 0.5314 - acc: 0.8057 - val_loss: 0.1273 - val_acc: 0.8124\n",
      "Epoch 20/20\n",
      "48000/48000 [==============================] - 452s 9ms/step - loss: 0.5319 - acc: 0.8058 - val_loss: 0.1273 - val_acc: 0.8124\n"
     ]
    }
   ],
   "source": [
    "hist = model.fit(X_train,X_train, validation_split = 0.2, epochs = 20, batch_size=128, verbose=1)"
   ]
  },
  {
   "cell_type": "code",
   "execution_count": 56,
   "metadata": {},
   "outputs": [
    {
     "name": "stdout",
     "output_type": "stream",
     "text": [
      "Train on 48000 samples, validate on 12000 samples\n",
      "Epoch 1/25\n",
      "48000/48000 [==============================] - 317s 7ms/step - loss: 0.5314 - acc: 0.8059 - val_loss: 0.1273 - val_acc: 0.8123\n",
      "Epoch 2/25\n",
      "48000/48000 [==============================] - 279s 6ms/step - loss: 0.5312 - acc: 0.8059 - val_loss: 0.1272 - val_acc: 0.8124\n",
      "Epoch 3/25\n",
      "48000/48000 [==============================] - 262s 5ms/step - loss: 0.5335 - acc: 0.8055 - val_loss: 0.1308 - val_acc: 0.8119\n",
      "Epoch 4/25\n",
      "48000/48000 [==============================] - 262s 5ms/step - loss: 0.5325 - acc: 0.8056 - val_loss: 0.1283 - val_acc: 0.8122\n",
      "Epoch 5/25\n",
      "48000/48000 [==============================] - 262s 5ms/step - loss: 0.5315 - acc: 0.8059 - val_loss: 0.1281 - val_acc: 0.8124\n",
      "Epoch 6/25\n",
      "48000/48000 [==============================] - 262s 5ms/step - loss: 0.5313 - acc: 0.8059 - val_loss: 0.1269 - val_acc: 0.8122\n",
      "Epoch 7/25\n",
      "48000/48000 [==============================] - 261s 5ms/step - loss: 0.5309 - acc: 0.8059 - val_loss: 0.1277 - val_acc: 0.8125\n",
      "Epoch 8/25\n",
      "48000/48000 [==============================] - 262s 5ms/step - loss: 0.5306 - acc: 0.8059 - val_loss: 0.1272 - val_acc: 0.8123\n",
      "Epoch 9/25\n",
      "48000/48000 [==============================] - 262s 5ms/step - loss: 0.5310 - acc: 0.8060 - val_loss: 0.1276 - val_acc: 0.8124\n",
      "Epoch 10/25\n",
      "48000/48000 [==============================] - 261s 5ms/step - loss: 0.5313 - acc: 0.8060 - val_loss: 0.1270 - val_acc: 0.8124\n",
      "Epoch 11/25\n",
      "48000/48000 [==============================] - 262s 5ms/step - loss: 0.5308 - acc: 0.8060 - val_loss: 0.1272 - val_acc: 0.8125\n",
      "Epoch 12/25\n",
      "48000/48000 [==============================] - 261s 5ms/step - loss: 0.5305 - acc: 0.8060 - val_loss: 0.1273 - val_acc: 0.8125\n",
      "Epoch 13/25\n",
      "48000/48000 [==============================] - 261s 5ms/step - loss: 0.5313 - acc: 0.8060 - val_loss: 0.1266 - val_acc: 0.8124\n",
      "Epoch 14/25\n",
      "48000/48000 [==============================] - 263s 5ms/step - loss: 0.5309 - acc: 0.8060 - val_loss: 0.1271 - val_acc: 0.8125\n",
      "Epoch 15/25\n",
      "48000/48000 [==============================] - 262s 5ms/step - loss: 0.5304 - acc: 0.8060 - val_loss: 0.1273 - val_acc: 0.8123\n",
      "Epoch 16/25\n",
      "48000/48000 [==============================] - 260s 5ms/step - loss: 0.5304 - acc: 0.8060 - val_loss: 0.1270 - val_acc: 0.8123\n",
      "Epoch 17/25\n",
      "48000/48000 [==============================] - 260s 5ms/step - loss: 0.5306 - acc: 0.8060 - val_loss: 0.1270 - val_acc: 0.8123\n",
      "Epoch 18/25\n",
      "48000/48000 [==============================] - 260s 5ms/step - loss: 0.5306 - acc: 0.8060 - val_loss: 0.1266 - val_acc: 0.8123\n",
      "Epoch 19/25\n",
      "48000/48000 [==============================] - 270s 6ms/step - loss: 0.5311 - acc: 0.8060 - val_loss: 0.1263 - val_acc: 0.8125\n",
      "Epoch 20/25\n",
      "48000/48000 [==============================] - 274s 6ms/step - loss: 0.5305 - acc: 0.8060 - val_loss: 0.1271 - val_acc: 0.8123\n",
      "Epoch 21/25\n",
      "48000/48000 [==============================] - 262s 5ms/step - loss: 0.5305 - acc: 0.8059 - val_loss: 0.1278 - val_acc: 0.8125\n",
      "Epoch 22/25\n",
      "48000/48000 [==============================] - 280s 6ms/step - loss: 0.5304 - acc: 0.8060 - val_loss: 0.1266 - val_acc: 0.8125\n",
      "Epoch 23/25\n",
      "48000/48000 [==============================] - 278s 6ms/step - loss: 0.5298 - acc: 0.8061 - val_loss: 0.1261 - val_acc: 0.8124\n",
      "Epoch 24/25\n",
      "48000/48000 [==============================] - 260s 5ms/step - loss: 0.5295 - acc: 0.8061 - val_loss: 0.1264 - val_acc: 0.8124\n",
      "Epoch 25/25\n",
      "48000/48000 [==============================] - 274s 6ms/step - loss: 0.5299 - acc: 0.8061 - val_loss: 0.1273 - val_acc: 0.8125\n"
     ]
    }
   ],
   "source": [
    "hist = model.fit(X_train,X_train, validation_split = 0.2, epochs = 25, batch_size=128, verbose=1)"
   ]
  },
  {
   "cell_type": "code",
   "execution_count": 79,
   "metadata": {},
   "outputs": [
    {
     "data": {
      "text/plain": [
       "<matplotlib.image.AxesImage at 0x25051dd6f60>"
      ]
     },
     "execution_count": 79,
     "metadata": {},
     "output_type": "execute_result"
    },
    {
     "data": {
      "image/png": "[encoded data removed]",
      "text/plain": [
       "<Figure size 432x288 with 2 Axes>"
      ]
     },
     "metadata": {
      "needs_background": "light"
     },
     "output_type": "display_data"
    }
   ],
   "source": [
    "index=20\n",
    "x1=np.reshape(X_test[index],[1,28,28,1])\n",
    "y1=model.predict(x1)\n",
    "y1=np.reshape(y1,[28,28])\n",
    "f = plt.figure()\n",
    "f.add_subplot(1,2, 1)\n",
    "plt.imshow(np.reshape(x1,[28,28]),cmap=\"gray\")\n",
    "f.add_subplot(1,2, 2)\n",
    "plt.imshow(y1,cmap=\"gray\")"
   ]
  },
  {
   "cell_type": "code",
   "execution_count": 80,
   "metadata": {},
   "outputs": [],
   "source": [
    "model.save('model_simple_conv_ae.h5')"
   ]
  },
  {
   "cell_type": "code",
   "execution_count": 6,
   "metadata": {},
   "outputs": [],
   "source": [
    "from keras.models import load_model\n",
    "import tensorflow\n",
    "from tensorflow.losses import sigmoid_cross_entropy\n",
    "model = load_model('model_cae.h5')"
   ]
  }
 ],
 "metadata": {
  "kernelspec": {
   "display_name": "Python 3",
   "language": "python",
   "name": "python3"
  },
  "language_info": {
   "codemirror_mode": {
    "name": "ipython",
    "version": 3
   },
   "file_extension": ".py",
   "mimetype": "text/x-python",
   "name": "python",
   "nbconvert_exporter": "python",
   "pygments_lexer": "ipython3",
   "version": "3.6.6"
  }
 },
 "nbformat": 4,
 "nbformat_minor": 2
}
